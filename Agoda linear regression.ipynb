{
 "cells": [
  {
   "cell_type": "markdown",
   "id": "82bdfaef",
   "metadata": {},
   "source": [
    "## Agoda  Linear Regression Model \n",
    "----------"
   ]
  },
  {
   "cell_type": "markdown",
   "id": "8c8cfd89",
   "metadata": {},
   "source": [
    "Steps :\n",
    "- Import Dataset \n",
    "- Cleaning \n",
    "- Define x , y\n",
    "- Split Dataset [training - test]\n",
    "- build and train model \n",
    "- predict the test data\n",
    "- evaluate model "
   ]
  },
  {
   "cell_type": "markdown",
   "id": "db8fb221",
   "metadata": {},
   "source": [
    "## import Libraries"
   ]
  },
  {
   "cell_type": "code",
   "execution_count": 83,
   "id": "9060561e",
   "metadata": {},
   "outputs": [],
   "source": [
    "# import Libraries \n",
    "import numpy as np \n",
    "import pandas as pd\n",
    "import matplotlib.pyplot as plt\n",
    "import seaborn as sns\n",
    "\n",
    "from sklearn.model_selection import train_test_split\n",
    "from sklearn.linear_model import LinearRegression\n",
    "import warnings\n",
    "warnings.filterwarnings('ignore')"
   ]
  },
  {
   "cell_type": "code",
   "execution_count": 84,
   "id": "d8b19c49",
   "metadata": {},
   "outputs": [],
   "source": [
    "# Load Dataset\n",
    "df = pd.read_csv('rooms.csv')"
   ]
  },
  {
   "cell_type": "markdown",
   "id": "2bec9690",
   "metadata": {},
   "source": [
    "## Gather Information From Data"
   ]
  },
  {
   "cell_type": "code",
   "execution_count": 85,
   "id": "af2ef512",
   "metadata": {},
   "outputs": [
    {
     "data": {
      "text/plain": [
       "(2247, 6)"
      ]
     },
     "execution_count": 85,
     "metadata": {},
     "output_type": "execute_result"
    }
   ],
   "source": [
    "df.shape"
   ]
  },
  {
   "cell_type": "markdown",
   "id": "609ebf25",
   "metadata": {},
   "source": [
    "------\n",
    "### Data Cleaning "
   ]
  },
  {
   "cell_type": "code",
   "execution_count": 86,
   "id": "737371ba",
   "metadata": {},
   "outputs": [
    {
     "data": {
      "text/html": [
       "<div>\n",
       "<style scoped>\n",
       "    .dataframe tbody tr th:only-of-type {\n",
       "        vertical-align: middle;\n",
       "    }\n",
       "\n",
       "    .dataframe tbody tr th {\n",
       "        vertical-align: top;\n",
       "    }\n",
       "\n",
       "    .dataframe thead th {\n",
       "        text-align: right;\n",
       "    }\n",
       "</style>\n",
       "<table border=\"1\" class=\"dataframe\">\n",
       "  <thead>\n",
       "    <tr style=\"text-align: right;\">\n",
       "      <th></th>\n",
       "      <th>name</th>\n",
       "      <th>price</th>\n",
       "      <th>type</th>\n",
       "      <th>bedroom_count</th>\n",
       "      <th>bed_count</th>\n",
       "      <th>review_count</th>\n",
       "    </tr>\n",
       "  </thead>\n",
       "  <tbody>\n",
       "    <tr>\n",
       "      <th>0</th>\n",
       "      <td>DOYANEN HOTELS YAMATO</td>\n",
       "      <td>18</td>\n",
       "      <td>Entire apartment</td>\n",
       "      <td>1</td>\n",
       "      <td>1</td>\n",
       "      <td>881</td>\n",
       "    </tr>\n",
       "    <tr>\n",
       "      <th>1</th>\n",
       "      <td>PG Kuromon</td>\n",
       "      <td>35</td>\n",
       "      <td>Entire apartment</td>\n",
       "      <td>1</td>\n",
       "      <td>1</td>\n",
       "      <td>1,238</td>\n",
       "    </tr>\n",
       "    <tr>\n",
       "      <th>2</th>\n",
       "      <td>Bon Condo Namba Nipponbashi</td>\n",
       "      <td>42</td>\n",
       "      <td>Entire apartment</td>\n",
       "      <td>1</td>\n",
       "      <td>3</td>\n",
       "      <td>196</td>\n",
       "    </tr>\n",
       "    <tr>\n",
       "      <th>3</th>\n",
       "      <td>Sakura Sands Hotel</td>\n",
       "      <td>32</td>\n",
       "      <td>Good</td>\n",
       "      <td>Price per night as low as</td>\n",
       "      <td>+ FREE CANCELLATION</td>\n",
       "      <td>NaN</td>\n",
       "    </tr>\n",
       "    <tr>\n",
       "      <th>4</th>\n",
       "      <td>USJまで2駅 懐かしファミコンでスーパーマリオと過ごすお部屋 in Sakura ...</td>\n",
       "      <td>73</td>\n",
       "      <td>Entire apartment</td>\n",
       "      <td>1</td>\n",
       "      <td>3</td>\n",
       "      <td>16</td>\n",
       "    </tr>\n",
       "    <tr>\n",
       "      <th>5</th>\n",
       "      <td>502室難波日本橋60平方広さ快適洗練された空間和風部屋</td>\n",
       "      <td>43</td>\n",
       "      <td>Entire apartment</td>\n",
       "      <td>3</td>\n",
       "      <td>6</td>\n",
       "      <td>2</td>\n",
       "    </tr>\n",
       "    <tr>\n",
       "      <th>6</th>\n",
       "      <td>Bon Condo Umeda East</td>\n",
       "      <td>NaN</td>\n",
       "      <td>Entire apartment</td>\n",
       "      <td>130 reviews</td>\n",
       "      <td>JUST MISSED IT!</td>\n",
       "      <td>NaN</td>\n",
       "    </tr>\n",
       "    <tr>\n",
       "      <th>7</th>\n",
       "      <td>Ocean OTR Park View Bentencho</td>\n",
       "      <td>31</td>\n",
       "      <td>Entire apartment</td>\n",
       "      <td>1</td>\n",
       "      <td>2</td>\n",
       "      <td>333</td>\n",
       "    </tr>\n",
       "    <tr>\n",
       "      <th>8</th>\n",
       "      <td>LAND MARK NAMBA G</td>\n",
       "      <td>43</td>\n",
       "      <td>Entire apartment</td>\n",
       "      <td>Highlights</td>\n",
       "      <td>1</td>\n",
       "      <td>Price per night as low as</td>\n",
       "    </tr>\n",
       "    <tr>\n",
       "      <th>9</th>\n",
       "      <td>HOTEL AARON Tsuten East</td>\n",
       "      <td>20</td>\n",
       "      <td>Entire apartment</td>\n",
       "      <td>1</td>\n",
       "      <td>2</td>\n",
       "      <td>3</td>\n",
       "    </tr>\n",
       "  </tbody>\n",
       "</table>\n",
       "</div>"
      ],
      "text/plain": [
       "                                                name price              type  \\\n",
       "0                              DOYANEN HOTELS YAMATO    18  Entire apartment   \n",
       "1                                         PG Kuromon    35  Entire apartment   \n",
       "2                        Bon Condo Namba Nipponbashi    42  Entire apartment   \n",
       "3                                 Sakura Sands Hotel    32             Good    \n",
       "4  USJまで2駅 懐かしファミコンでスーパーマリオと過ごすお部屋 in Sakura ...    73  Entire apartment   \n",
       "5                       502室難波日本橋60平方広さ快適洗練された空間和風部屋    43  Entire apartment   \n",
       "6                               Bon Condo Umeda East   NaN  Entire apartment   \n",
       "7                      Ocean OTR Park View Bentencho    31  Entire apartment   \n",
       "8                                  LAND MARK NAMBA G    43  Entire apartment   \n",
       "9                            HOTEL AARON Tsuten East    20  Entire apartment   \n",
       "\n",
       "               bedroom_count            bed_count               review_count  \n",
       "0                          1                    1                       881   \n",
       "1                          1                    1                     1,238   \n",
       "2                          1                    3                       196   \n",
       "3  Price per night as low as  + FREE CANCELLATION                        NaN  \n",
       "4                          1                    3                        16   \n",
       "5                          3                    6                         2   \n",
       "6                130 reviews      JUST MISSED IT!                        NaN  \n",
       "7                          1                    2                       333   \n",
       "8                 Highlights                    1  Price per night as low as  \n",
       "9                          1                    2                         3   "
      ]
     },
     "execution_count": 86,
     "metadata": {},
     "output_type": "execute_result"
    }
   ],
   "source": [
    "# take alook \n",
    "df.head(10)"
   ]
  },
  {
   "cell_type": "code",
   "execution_count": 87,
   "id": "14ad41c1",
   "metadata": {},
   "outputs": [
    {
     "data": {
      "text/html": [
       "<div>\n",
       "<style scoped>\n",
       "    .dataframe tbody tr th:only-of-type {\n",
       "        vertical-align: middle;\n",
       "    }\n",
       "\n",
       "    .dataframe tbody tr th {\n",
       "        vertical-align: top;\n",
       "    }\n",
       "\n",
       "    .dataframe thead th {\n",
       "        text-align: right;\n",
       "    }\n",
       "</style>\n",
       "<table border=\"1\" class=\"dataframe\">\n",
       "  <thead>\n",
       "    <tr style=\"text-align: right;\">\n",
       "      <th></th>\n",
       "      <th>name</th>\n",
       "      <th>price</th>\n",
       "      <th>type</th>\n",
       "      <th>bedroom_count</th>\n",
       "      <th>bed_count</th>\n",
       "      <th>review_count</th>\n",
       "    </tr>\n",
       "  </thead>\n",
       "  <tbody>\n",
       "    <tr>\n",
       "      <th>1438</th>\n",
       "      <td>Summer Suites Studios</td>\n",
       "      <td>NaN</td>\n",
       "      <td>Entire apartment</td>\n",
       "      <td>771 reviews</td>\n",
       "      <td>JUST MISSED IT!</td>\n",
       "      <td>NaN</td>\n",
       "    </tr>\n",
       "    <tr>\n",
       "      <th>1557</th>\n",
       "      <td>EightyOne Newport Boulevard Condotel CLUSTER 1-7N</td>\n",
       "      <td>39</td>\n",
       "      <td>Entire apartment</td>\n",
       "      <td>Highlights</td>\n",
       "      <td>1</td>\n",
       "      <td>Exceptional</td>\n",
       "    </tr>\n",
       "    <tr>\n",
       "      <th>216</th>\n",
       "      <td>Back Kuromon Ichiba AFP Apartment(61)</td>\n",
       "      <td>33</td>\n",
       "      <td>Entire apartment</td>\n",
       "      <td>Highlights</td>\n",
       "      <td>2</td>\n",
       "      <td>Awaiting</td>\n",
       "    </tr>\n",
       "    <tr>\n",
       "      <th>176</th>\n",
       "      <td>seadream tsurumi by yokotani kikaku No.3</td>\n",
       "      <td>31</td>\n",
       "      <td>Entire apartment</td>\n",
       "      <td>Highlights</td>\n",
       "      <td>1</td>\n",
       "      <td>Awaiting</td>\n",
       "    </tr>\n",
       "    <tr>\n",
       "      <th>1747</th>\n",
       "      <td>Honeymoon Business Queen Suite33C</td>\n",
       "      <td>52</td>\n",
       "      <td>Entire apartment</td>\n",
       "      <td>Highlights</td>\n",
       "      <td>1</td>\n",
       "      <td>Exceptional</td>\n",
       "    </tr>\n",
       "    <tr>\n",
       "      <th>1417</th>\n",
       "      <td>M City Lake View 1+1 Room</td>\n",
       "      <td>61</td>\n",
       "      <td>Entire apartment</td>\n",
       "      <td>2</td>\n",
       "      <td>4</td>\n",
       "      <td>4</td>\n",
       "    </tr>\n",
       "    <tr>\n",
       "      <th>603</th>\n",
       "      <td>7mins to Shibuya station/Romantic Room / Room No1</td>\n",
       "      <td>159</td>\n",
       "      <td>Entire apartment</td>\n",
       "      <td>Highlights</td>\n",
       "      <td>1</td>\n",
       "      <td>Good</td>\n",
       "    </tr>\n",
       "    <tr>\n",
       "      <th>1035</th>\n",
       "      <td>Designer Arte Plus Studio w Netflix IdealHub 02</td>\n",
       "      <td>27</td>\n",
       "      <td>Entire apartment</td>\n",
       "      <td>Highlights</td>\n",
       "      <td>1</td>\n",
       "      <td>Excellent</td>\n",
       "    </tr>\n",
       "    <tr>\n",
       "      <th>1050</th>\n",
       "      <td>Comfort Service Apartment at The Face KLCC</td>\n",
       "      <td>53</td>\n",
       "      <td>Entire apartment</td>\n",
       "      <td>1</td>\n",
       "      <td>1</td>\n",
       "      <td>14</td>\n",
       "    </tr>\n",
       "    <tr>\n",
       "      <th>1640</th>\n",
       "      <td>Extremeli Suites</td>\n",
       "      <td>NaN</td>\n",
       "      <td>Very good</td>\n",
       "      <td>JUST MISSED IT!</td>\n",
       "      <td>NaN</td>\n",
       "      <td>NaN</td>\n",
       "    </tr>\n",
       "    <tr>\n",
       "      <th>97</th>\n",
       "      <td>Back Kuromon Ichiba AFP Apartment(61)</td>\n",
       "      <td>33</td>\n",
       "      <td>Entire apartment</td>\n",
       "      <td>Highlights</td>\n",
       "      <td>2</td>\n",
       "      <td>Awaiting</td>\n",
       "    </tr>\n",
       "    <tr>\n",
       "      <th>68</th>\n",
       "      <td>Back Kuromon Ichiba AFP Apartment(61)</td>\n",
       "      <td>33</td>\n",
       "      <td>Entire apartment</td>\n",
       "      <td>Highlights</td>\n",
       "      <td>2</td>\n",
       "      <td>Awaiting</td>\n",
       "    </tr>\n",
       "    <tr>\n",
       "      <th>426</th>\n",
       "      <td>Infinity pool the base low price seaview apart...</td>\n",
       "      <td>29</td>\n",
       "      <td>Entire apartment</td>\n",
       "      <td>Highlights</td>\n",
       "      <td>1</td>\n",
       "      <td>Awaiting</td>\n",
       "    </tr>\n",
       "    <tr>\n",
       "      <th>841</th>\n",
       "      <td>Zetter Suite Arte Mont Kiara</td>\n",
       "      <td>34</td>\n",
       "      <td>Very good</td>\n",
       "      <td></td>\n",
       "      <td>Select room</td>\n",
       "      <td>NaN</td>\n",
       "    </tr>\n",
       "    <tr>\n",
       "      <th>1192</th>\n",
       "      <td>KL17, 2BR with 100mbps at Sungai Besi (4 pax)</td>\n",
       "      <td>37</td>\n",
       "      <td>Entire apartment</td>\n",
       "      <td>1</td>\n",
       "      <td>3</td>\n",
       "      <td></td>\n",
       "    </tr>\n",
       "  </tbody>\n",
       "</table>\n",
       "</div>"
      ],
      "text/plain": [
       "                                                   name price  \\\n",
       "1438                              Summer Suites Studios   NaN   \n",
       "1557  EightyOne Newport Boulevard Condotel CLUSTER 1-7N    39   \n",
       "216               Back Kuromon Ichiba AFP Apartment(61)    33   \n",
       "176            seadream tsurumi by yokotani kikaku No.3    31   \n",
       "1747                  Honeymoon Business Queen Suite33C    52   \n",
       "1417                          M City Lake View 1+1 Room    61   \n",
       "603   7mins to Shibuya station/Romantic Room / Room No1   159   \n",
       "1035    Designer Arte Plus Studio w Netflix IdealHub 02    27   \n",
       "1050         Comfort Service Apartment at The Face KLCC    53   \n",
       "1640                                   Extremeli Suites   NaN   \n",
       "97                Back Kuromon Ichiba AFP Apartment(61)    33   \n",
       "68                Back Kuromon Ichiba AFP Apartment(61)    33   \n",
       "426   Infinity pool the base low price seaview apart...    29   \n",
       "841                        Zetter Suite Arte Mont Kiara    34   \n",
       "1192      KL17, 2BR with 100mbps at Sungai Besi (4 pax)    37   \n",
       "\n",
       "                  type    bedroom_count        bed_count  review_count  \n",
       "1438  Entire apartment      771 reviews  JUST MISSED IT!           NaN  \n",
       "1557  Entire apartment       Highlights                1  Exceptional   \n",
       "216   Entire apartment       Highlights                2     Awaiting   \n",
       "176   Entire apartment       Highlights                1     Awaiting   \n",
       "1747  Entire apartment       Highlights                1  Exceptional   \n",
       "1417  Entire apartment                2                4            4   \n",
       "603   Entire apartment       Highlights                1         Good   \n",
       "1035  Entire apartment       Highlights                1    Excellent   \n",
       "1050  Entire apartment                1                1           14   \n",
       "1640        Very good   JUST MISSED IT!              NaN           NaN  \n",
       "97    Entire apartment       Highlights                2     Awaiting   \n",
       "68    Entire apartment       Highlights                2     Awaiting   \n",
       "426   Entire apartment       Highlights                1     Awaiting   \n",
       "841         Very good                        Select room           NaN  \n",
       "1192  Entire apartment                1                3                "
      ]
     },
     "execution_count": 87,
     "metadata": {},
     "output_type": "execute_result"
    }
   ],
   "source": [
    "df.sample(15,random_state=10)"
   ]
  },
  {
   "cell_type": "code",
   "execution_count": 88,
   "id": "01a9c8cf",
   "metadata": {},
   "outputs": [
    {
     "name": "stdout",
     "output_type": "stream",
     "text": [
      "<class 'pandas.core.frame.DataFrame'>\n",
      "RangeIndex: 2247 entries, 0 to 2246\n",
      "Data columns (total 6 columns):\n",
      " #   Column         Non-Null Count  Dtype \n",
      "---  ------         --------------  ----- \n",
      " 0   name           2247 non-null   object\n",
      " 1   price          2000 non-null   object\n",
      " 2   type           2247 non-null   object\n",
      " 3   bedroom_count  2246 non-null   object\n",
      " 4   bed_count      2181 non-null   object\n",
      " 5   review_count   1780 non-null   object\n",
      "dtypes: object(6)\n",
      "memory usage: 105.5+ KB\n"
     ]
    }
   ],
   "source": [
    "df.info()"
   ]
  },
  {
   "cell_type": "code",
   "execution_count": 89,
   "id": "105c0463",
   "metadata": {},
   "outputs": [
    {
     "data": {
      "text/plain": [
       "name             object\n",
       "price            object\n",
       "type             object\n",
       "bedroom_count    object\n",
       "bed_count        object\n",
       "review_count     object\n",
       "dtype: object"
      ]
     },
     "execution_count": 89,
     "metadata": {},
     "output_type": "execute_result"
    }
   ],
   "source": [
    "df.dtypes"
   ]
  },
  {
   "cell_type": "markdown",
   "id": "57ebbda8",
   "metadata": {},
   "source": [
    "---------"
   ]
  },
  {
   "cell_type": "code",
   "execution_count": 90,
   "id": "3d9aaa80",
   "metadata": {},
   "outputs": [
    {
     "data": {
      "text/plain": [
       "name               0\n",
       "price            247\n",
       "type               0\n",
       "bedroom_count      1\n",
       "bed_count         66\n",
       "review_count     467\n",
       "dtype: int64"
      ]
     },
     "execution_count": 90,
     "metadata": {},
     "output_type": "execute_result"
    }
   ],
   "source": [
    "# check for null values \n",
    "df.isnull().sum()"
   ]
  },
  {
   "cell_type": "markdown",
   "id": "df0feaf4",
   "metadata": {},
   "source": [
    "# convert column types"
   ]
  },
  {
   "cell_type": "code",
   "execution_count": 91,
   "id": "8a54c284",
   "metadata": {},
   "outputs": [],
   "source": [
    "df['review_count']  = pd.to_numeric(df['review_count'], errors='coerce')\n",
    "df['bedroom_count']  = pd.to_numeric(df['bedroom_count'], errors='coerce')\n",
    "df['bed_count']  = pd.to_numeric(df['bed_count'], errors='coerce')\n",
    "df['price']  = pd.to_numeric(df['price'], errors='coerce')"
   ]
  },
  {
   "cell_type": "code",
   "execution_count": 92,
   "id": "684e9043",
   "metadata": {},
   "outputs": [
    {
     "data": {
      "text/plain": [
       "name                0\n",
       "price             257\n",
       "type                0\n",
       "bedroom_count    1481\n",
       "bed_count         486\n",
       "review_count     1769\n",
       "dtype: int64"
      ]
     },
     "execution_count": 92,
     "metadata": {},
     "output_type": "execute_result"
    }
   ],
   "source": [
    "df.isnull().sum()"
   ]
  },
  {
   "cell_type": "code",
   "execution_count": 93,
   "id": "af437738",
   "metadata": {},
   "outputs": [
    {
     "data": {
      "text/html": [
       "<div>\n",
       "<style scoped>\n",
       "    .dataframe tbody tr th:only-of-type {\n",
       "        vertical-align: middle;\n",
       "    }\n",
       "\n",
       "    .dataframe tbody tr th {\n",
       "        vertical-align: top;\n",
       "    }\n",
       "\n",
       "    .dataframe thead th {\n",
       "        text-align: right;\n",
       "    }\n",
       "</style>\n",
       "<table border=\"1\" class=\"dataframe\">\n",
       "  <thead>\n",
       "    <tr style=\"text-align: right;\">\n",
       "      <th></th>\n",
       "      <th>name</th>\n",
       "      <th>price</th>\n",
       "      <th>type</th>\n",
       "      <th>bedroom_count</th>\n",
       "      <th>bed_count</th>\n",
       "      <th>review_count</th>\n",
       "    </tr>\n",
       "  </thead>\n",
       "  <tbody>\n",
       "    <tr>\n",
       "      <th>1438</th>\n",
       "      <td>Summer Suites Studios</td>\n",
       "      <td>NaN</td>\n",
       "      <td>Entire apartment</td>\n",
       "      <td>NaN</td>\n",
       "      <td>NaN</td>\n",
       "      <td>NaN</td>\n",
       "    </tr>\n",
       "    <tr>\n",
       "      <th>1557</th>\n",
       "      <td>EightyOne Newport Boulevard Condotel CLUSTER 1-7N</td>\n",
       "      <td>39.0</td>\n",
       "      <td>Entire apartment</td>\n",
       "      <td>NaN</td>\n",
       "      <td>1.0</td>\n",
       "      <td>NaN</td>\n",
       "    </tr>\n",
       "    <tr>\n",
       "      <th>216</th>\n",
       "      <td>Back Kuromon Ichiba AFP Apartment(61)</td>\n",
       "      <td>33.0</td>\n",
       "      <td>Entire apartment</td>\n",
       "      <td>NaN</td>\n",
       "      <td>2.0</td>\n",
       "      <td>NaN</td>\n",
       "    </tr>\n",
       "    <tr>\n",
       "      <th>176</th>\n",
       "      <td>seadream tsurumi by yokotani kikaku No.3</td>\n",
       "      <td>31.0</td>\n",
       "      <td>Entire apartment</td>\n",
       "      <td>NaN</td>\n",
       "      <td>1.0</td>\n",
       "      <td>NaN</td>\n",
       "    </tr>\n",
       "    <tr>\n",
       "      <th>1747</th>\n",
       "      <td>Honeymoon Business Queen Suite33C</td>\n",
       "      <td>52.0</td>\n",
       "      <td>Entire apartment</td>\n",
       "      <td>NaN</td>\n",
       "      <td>1.0</td>\n",
       "      <td>NaN</td>\n",
       "    </tr>\n",
       "    <tr>\n",
       "      <th>1417</th>\n",
       "      <td>M City Lake View 1+1 Room</td>\n",
       "      <td>61.0</td>\n",
       "      <td>Entire apartment</td>\n",
       "      <td>2.0</td>\n",
       "      <td>4.0</td>\n",
       "      <td>4.0</td>\n",
       "    </tr>\n",
       "    <tr>\n",
       "      <th>603</th>\n",
       "      <td>7mins to Shibuya station/Romantic Room / Room No1</td>\n",
       "      <td>159.0</td>\n",
       "      <td>Entire apartment</td>\n",
       "      <td>NaN</td>\n",
       "      <td>1.0</td>\n",
       "      <td>NaN</td>\n",
       "    </tr>\n",
       "    <tr>\n",
       "      <th>1035</th>\n",
       "      <td>Designer Arte Plus Studio w Netflix IdealHub 02</td>\n",
       "      <td>27.0</td>\n",
       "      <td>Entire apartment</td>\n",
       "      <td>NaN</td>\n",
       "      <td>1.0</td>\n",
       "      <td>NaN</td>\n",
       "    </tr>\n",
       "    <tr>\n",
       "      <th>1050</th>\n",
       "      <td>Comfort Service Apartment at The Face KLCC</td>\n",
       "      <td>53.0</td>\n",
       "      <td>Entire apartment</td>\n",
       "      <td>1.0</td>\n",
       "      <td>1.0</td>\n",
       "      <td>14.0</td>\n",
       "    </tr>\n",
       "    <tr>\n",
       "      <th>1640</th>\n",
       "      <td>Extremeli Suites</td>\n",
       "      <td>NaN</td>\n",
       "      <td>Very good</td>\n",
       "      <td>NaN</td>\n",
       "      <td>NaN</td>\n",
       "      <td>NaN</td>\n",
       "    </tr>\n",
       "  </tbody>\n",
       "</table>\n",
       "</div>"
      ],
      "text/plain": [
       "                                                   name  price  \\\n",
       "1438                              Summer Suites Studios    NaN   \n",
       "1557  EightyOne Newport Boulevard Condotel CLUSTER 1-7N   39.0   \n",
       "216               Back Kuromon Ichiba AFP Apartment(61)   33.0   \n",
       "176            seadream tsurumi by yokotani kikaku No.3   31.0   \n",
       "1747                  Honeymoon Business Queen Suite33C   52.0   \n",
       "1417                          M City Lake View 1+1 Room   61.0   \n",
       "603   7mins to Shibuya station/Romantic Room / Room No1  159.0   \n",
       "1035    Designer Arte Plus Studio w Netflix IdealHub 02   27.0   \n",
       "1050         Comfort Service Apartment at The Face KLCC   53.0   \n",
       "1640                                   Extremeli Suites    NaN   \n",
       "\n",
       "                  type  bedroom_count  bed_count  review_count  \n",
       "1438  Entire apartment            NaN        NaN           NaN  \n",
       "1557  Entire apartment            NaN        1.0           NaN  \n",
       "216   Entire apartment            NaN        2.0           NaN  \n",
       "176   Entire apartment            NaN        1.0           NaN  \n",
       "1747  Entire apartment            NaN        1.0           NaN  \n",
       "1417  Entire apartment            2.0        4.0           4.0  \n",
       "603   Entire apartment            NaN        1.0           NaN  \n",
       "1035  Entire apartment            NaN        1.0           NaN  \n",
       "1050  Entire apartment            1.0        1.0          14.0  \n",
       "1640        Very good             NaN        NaN           NaN  "
      ]
     },
     "execution_count": 93,
     "metadata": {},
     "output_type": "execute_result"
    }
   ],
   "source": [
    "df.sample(10,random_state=10)"
   ]
  },
  {
   "cell_type": "markdown",
   "id": "477d9d72",
   "metadata": {},
   "source": [
    "# deal with null values"
   ]
  },
  {
   "cell_type": "code",
   "execution_count": 94,
   "id": "cc6bd018",
   "metadata": {},
   "outputs": [],
   "source": [
    " \n",
    "df['bedroom_count'].fillna(df['bedroom_count'].mode()[0], inplace=True)\n",
    "df['bed_count'].fillna(df['bed_count'].mode()[0], inplace=True)\n",
    "df['review_count'].fillna(df['review_count'].mode()[0], inplace=True)\n",
    "df['price'].fillna(df['price'].median(), inplace=True)"
   ]
  },
  {
   "cell_type": "code",
   "execution_count": 95,
   "id": "7f11cbef",
   "metadata": {},
   "outputs": [
    {
     "data": {
      "text/plain": [
       "name             0\n",
       "price            0\n",
       "type             0\n",
       "bedroom_count    0\n",
       "bed_count        0\n",
       "review_count     0\n",
       "dtype: int64"
      ]
     },
     "execution_count": 95,
     "metadata": {},
     "output_type": "execute_result"
    }
   ],
   "source": [
    "df.isnull().sum()"
   ]
  },
  {
   "cell_type": "code",
   "execution_count": 96,
   "id": "3c96c014",
   "metadata": {},
   "outputs": [
    {
     "data": {
      "text/plain": [
       "name              object\n",
       "price            float64\n",
       "type              object\n",
       "bedroom_count    float64\n",
       "bed_count        float64\n",
       "review_count     float64\n",
       "dtype: object"
      ]
     },
     "execution_count": 96,
     "metadata": {},
     "output_type": "execute_result"
    }
   ],
   "source": [
    "df.dtypes"
   ]
  },
  {
   "cell_type": "markdown",
   "id": "24730bfd",
   "metadata": {},
   "source": [
    "-------\n",
    "# Take Alook "
   ]
  },
  {
   "cell_type": "code",
   "execution_count": 97,
   "id": "3c14c601",
   "metadata": {},
   "outputs": [
    {
     "data": {
      "text/html": [
       "<div>\n",
       "<style scoped>\n",
       "    .dataframe tbody tr th:only-of-type {\n",
       "        vertical-align: middle;\n",
       "    }\n",
       "\n",
       "    .dataframe tbody tr th {\n",
       "        vertical-align: top;\n",
       "    }\n",
       "\n",
       "    .dataframe thead th {\n",
       "        text-align: right;\n",
       "    }\n",
       "</style>\n",
       "<table border=\"1\" class=\"dataframe\">\n",
       "  <thead>\n",
       "    <tr style=\"text-align: right;\">\n",
       "      <th></th>\n",
       "      <th>name</th>\n",
       "      <th>price</th>\n",
       "      <th>type</th>\n",
       "      <th>bedroom_count</th>\n",
       "      <th>bed_count</th>\n",
       "      <th>review_count</th>\n",
       "    </tr>\n",
       "  </thead>\n",
       "  <tbody>\n",
       "    <tr>\n",
       "      <th>1796</th>\n",
       "      <td>R &amp; E Suites Room 1</td>\n",
       "      <td>35.0</td>\n",
       "      <td>Entire apartment</td>\n",
       "      <td>1.0</td>\n",
       "      <td>1.0</td>\n",
       "      <td>1.0</td>\n",
       "    </tr>\n",
       "    <tr>\n",
       "      <th>1540</th>\n",
       "      <td>Mezza II Residences Unit # 4133</td>\n",
       "      <td>24.0</td>\n",
       "      <td>Entire apartment</td>\n",
       "      <td>1.0</td>\n",
       "      <td>1.0</td>\n",
       "      <td>1.0</td>\n",
       "    </tr>\n",
       "    <tr>\n",
       "      <th>934</th>\n",
       "      <td>The Duplex Getaway @ Tamarind Suites, Wifi Net...</td>\n",
       "      <td>45.0</td>\n",
       "      <td>Entire apartment</td>\n",
       "      <td>1.0</td>\n",
       "      <td>1.0</td>\n",
       "      <td>1.0</td>\n",
       "    </tr>\n",
       "    <tr>\n",
       "      <th>1781</th>\n",
       "      <td>GR1 Grace Condo Deluxe Suites @ Taguig Near BGC</td>\n",
       "      <td>45.0</td>\n",
       "      <td>Entire apartment</td>\n",
       "      <td>1.0</td>\n",
       "      <td>1.0</td>\n",
       "      <td>1.0</td>\n",
       "    </tr>\n",
       "    <tr>\n",
       "      <th>502</th>\n",
       "      <td>shinjuku kabukicho  #601</td>\n",
       "      <td>65.0</td>\n",
       "      <td>Entire apartment</td>\n",
       "      <td>1.0</td>\n",
       "      <td>1.0</td>\n",
       "      <td>1.0</td>\n",
       "    </tr>\n",
       "    <tr>\n",
       "      <th>2085</th>\n",
       "      <td>Comfortable 1 bedroom stay in Subang Jaya</td>\n",
       "      <td>45.0</td>\n",
       "      <td>Entire apartment</td>\n",
       "      <td>1.0</td>\n",
       "      <td>1.0</td>\n",
       "      <td>1.0</td>\n",
       "    </tr>\n",
       "    <tr>\n",
       "      <th>953</th>\n",
       "      <td>D'majestic Place By Homes Asian 03</td>\n",
       "      <td>21.0</td>\n",
       "      <td>Entire apartment</td>\n",
       "      <td>1.0</td>\n",
       "      <td>1.0</td>\n",
       "      <td>4.0</td>\n",
       "    </tr>\n",
       "    <tr>\n",
       "      <th>1773</th>\n",
       "      <td>[hiii]Naranja|Robinson|RoxasBLVD/PoolSunset-MN...</td>\n",
       "      <td>28.0</td>\n",
       "      <td>Entire apartment</td>\n",
       "      <td>1.0</td>\n",
       "      <td>1.0</td>\n",
       "      <td>1.0</td>\n",
       "    </tr>\n",
       "    <tr>\n",
       "      <th>1160</th>\n",
       "      <td>Montana Suite 2, Empire Damansara</td>\n",
       "      <td>40.0</td>\n",
       "      <td>Entire apartment</td>\n",
       "      <td>1.0</td>\n",
       "      <td>2.0</td>\n",
       "      <td>1.0</td>\n",
       "    </tr>\n",
       "    <tr>\n",
       "      <th>563</th>\n",
       "      <td>Akabane TK Building 301</td>\n",
       "      <td>53.0</td>\n",
       "      <td>Entire apartment</td>\n",
       "      <td>1.0</td>\n",
       "      <td>3.0</td>\n",
       "      <td>11.0</td>\n",
       "    </tr>\n",
       "  </tbody>\n",
       "</table>\n",
       "</div>"
      ],
      "text/plain": [
       "                                                   name  price  \\\n",
       "1796                                R & E Suites Room 1   35.0   \n",
       "1540                    Mezza II Residences Unit # 4133   24.0   \n",
       "934   The Duplex Getaway @ Tamarind Suites, Wifi Net...   45.0   \n",
       "1781    GR1 Grace Condo Deluxe Suites @ Taguig Near BGC   45.0   \n",
       "502                            shinjuku kabukicho  #601   65.0   \n",
       "2085          Comfortable 1 bedroom stay in Subang Jaya   45.0   \n",
       "953                  D'majestic Place By Homes Asian 03   21.0   \n",
       "1773  [hiii]Naranja|Robinson|RoxasBLVD/PoolSunset-MN...   28.0   \n",
       "1160                  Montana Suite 2, Empire Damansara   40.0   \n",
       "563                             Akabane TK Building 301   53.0   \n",
       "\n",
       "                  type  bedroom_count  bed_count  review_count  \n",
       "1796  Entire apartment            1.0        1.0           1.0  \n",
       "1540  Entire apartment            1.0        1.0           1.0  \n",
       "934   Entire apartment            1.0        1.0           1.0  \n",
       "1781  Entire apartment            1.0        1.0           1.0  \n",
       "502   Entire apartment            1.0        1.0           1.0  \n",
       "2085  Entire apartment            1.0        1.0           1.0  \n",
       "953   Entire apartment            1.0        1.0           4.0  \n",
       "1773  Entire apartment            1.0        1.0           1.0  \n",
       "1160  Entire apartment            1.0        2.0           1.0  \n",
       "563   Entire apartment            1.0        3.0          11.0  "
      ]
     },
     "execution_count": 97,
     "metadata": {},
     "output_type": "execute_result"
    }
   ],
   "source": [
    "df.sample(10)"
   ]
  },
  {
   "cell_type": "markdown",
   "id": "31382f0b",
   "metadata": {},
   "source": [
    "#  drop unnecessry columns "
   ]
  },
  {
   "cell_type": "code",
   "execution_count": 98,
   "id": "bef4f24d",
   "metadata": {},
   "outputs": [],
   "source": [
    "df.drop('name', axis=1, inplace=True)\n",
    "df.drop('type', axis=1, inplace=True)"
   ]
  },
  {
   "cell_type": "code",
   "execution_count": 99,
   "id": "520477f5",
   "metadata": {},
   "outputs": [
    {
     "data": {
      "text/plain": [
       "(2247, 4)"
      ]
     },
     "execution_count": 99,
     "metadata": {},
     "output_type": "execute_result"
    }
   ],
   "source": [
    "df.shape"
   ]
  },
  {
   "cell_type": "code",
   "execution_count": 100,
   "id": "637baa62",
   "metadata": {},
   "outputs": [
    {
     "data": {
      "text/html": [
       "<div>\n",
       "<style scoped>\n",
       "    .dataframe tbody tr th:only-of-type {\n",
       "        vertical-align: middle;\n",
       "    }\n",
       "\n",
       "    .dataframe tbody tr th {\n",
       "        vertical-align: top;\n",
       "    }\n",
       "\n",
       "    .dataframe thead th {\n",
       "        text-align: right;\n",
       "    }\n",
       "</style>\n",
       "<table border=\"1\" class=\"dataframe\">\n",
       "  <thead>\n",
       "    <tr style=\"text-align: right;\">\n",
       "      <th></th>\n",
       "      <th>price</th>\n",
       "      <th>bedroom_count</th>\n",
       "      <th>bed_count</th>\n",
       "      <th>review_count</th>\n",
       "    </tr>\n",
       "  </thead>\n",
       "  <tbody>\n",
       "    <tr>\n",
       "      <th>count</th>\n",
       "      <td>2247.000000</td>\n",
       "      <td>2247.000000</td>\n",
       "      <td>2247.000000</td>\n",
       "      <td>2247.000000</td>\n",
       "    </tr>\n",
       "    <tr>\n",
       "      <th>mean</th>\n",
       "      <td>62.451713</td>\n",
       "      <td>1.104584</td>\n",
       "      <td>1.697819</td>\n",
       "      <td>11.959057</td>\n",
       "    </tr>\n",
       "    <tr>\n",
       "      <th>std</th>\n",
       "      <td>70.670376</td>\n",
       "      <td>0.399478</td>\n",
       "      <td>1.302067</td>\n",
       "      <td>65.225509</td>\n",
       "    </tr>\n",
       "    <tr>\n",
       "      <th>min</th>\n",
       "      <td>5.000000</td>\n",
       "      <td>1.000000</td>\n",
       "      <td>1.000000</td>\n",
       "      <td>1.000000</td>\n",
       "    </tr>\n",
       "    <tr>\n",
       "      <th>25%</th>\n",
       "      <td>31.000000</td>\n",
       "      <td>1.000000</td>\n",
       "      <td>1.000000</td>\n",
       "      <td>1.000000</td>\n",
       "    </tr>\n",
       "    <tr>\n",
       "      <th>50%</th>\n",
       "      <td>45.000000</td>\n",
       "      <td>1.000000</td>\n",
       "      <td>1.000000</td>\n",
       "      <td>1.000000</td>\n",
       "    </tr>\n",
       "    <tr>\n",
       "      <th>75%</th>\n",
       "      <td>63.000000</td>\n",
       "      <td>1.000000</td>\n",
       "      <td>2.000000</td>\n",
       "      <td>1.000000</td>\n",
       "    </tr>\n",
       "    <tr>\n",
       "      <th>max</th>\n",
       "      <td>782.000000</td>\n",
       "      <td>4.000000</td>\n",
       "      <td>18.000000</td>\n",
       "      <td>988.000000</td>\n",
       "    </tr>\n",
       "  </tbody>\n",
       "</table>\n",
       "</div>"
      ],
      "text/plain": [
       "             price  bedroom_count    bed_count  review_count\n",
       "count  2247.000000    2247.000000  2247.000000   2247.000000\n",
       "mean     62.451713       1.104584     1.697819     11.959057\n",
       "std      70.670376       0.399478     1.302067     65.225509\n",
       "min       5.000000       1.000000     1.000000      1.000000\n",
       "25%      31.000000       1.000000     1.000000      1.000000\n",
       "50%      45.000000       1.000000     1.000000      1.000000\n",
       "75%      63.000000       1.000000     2.000000      1.000000\n",
       "max     782.000000       4.000000    18.000000    988.000000"
      ]
     },
     "execution_count": 100,
     "metadata": {},
     "output_type": "execute_result"
    }
   ],
   "source": [
    "df.describe()"
   ]
  },
  {
   "cell_type": "markdown",
   "id": "af5780b7",
   "metadata": {},
   "source": [
    "------\n",
    "## deal with outlier "
   ]
  },
  {
   "cell_type": "code",
   "execution_count": 101,
   "id": "5d2a8ea9",
   "metadata": {},
   "outputs": [
    {
     "data": {
      "text/plain": [
       "<AxesSubplot:xlabel='price', ylabel='Density'>"
      ]
     },
     "execution_count": 101,
     "metadata": {},
     "output_type": "execute_result"
    },
    {
     "data": {
      "image/png": "[encoded data removed]",
      "text/plain": [
       "<Figure size 432x288 with 1 Axes>"
      ]
     },
     "metadata": {
      "needs_background": "light"
     },
     "output_type": "display_data"
    }
   ],
   "source": [
    "sns.distplot(df['price'])"
   ]
  },
  {
   "cell_type": "code",
   "execution_count": 102,
   "id": "c80132be",
   "metadata": {},
   "outputs": [],
   "source": [
    "q = df['price'].quantile(0.99)\n",
    "df = df[df['price']<q]"
   ]
  },
  {
   "cell_type": "code",
   "execution_count": 103,
   "id": "7c81ce88",
   "metadata": {},
   "outputs": [
    {
     "data": {
      "text/plain": [
       "<AxesSubplot:xlabel='price', ylabel='Density'>"
      ]
     },
     "execution_count": 103,
     "metadata": {},
     "output_type": "execute_result"
    },
    {
     "data": {
      "image/png": "[encoded data removed]",
      "text/plain": [
       "<Figure size 432x288 with 1 Axes>"
      ]
     },
     "metadata": {
      "needs_background": "light"
     },
     "output_type": "display_data"
    }
   ],
   "source": [
    "sns.distplot(df['price'])"
   ]
  },
  {
   "cell_type": "code",
   "execution_count": 104,
   "id": "c1715c2e",
   "metadata": {},
   "outputs": [
    {
     "data": {
      "text/plain": [
       "<AxesSubplot:xlabel='bedroom_count', ylabel='Density'>"
      ]
     },
     "execution_count": 104,
     "metadata": {},
     "output_type": "execute_result"
    },
    {
     "data": {
      "image/png": "[encoded data removed]",
      "text/plain": [
       "<Figure size 432x288 with 1 Axes>"
      ]
     },
     "metadata": {
      "needs_background": "light"
     },
     "output_type": "display_data"
    }
   ],
   "source": [
    "sns.distplot(df['bedroom_count'])"
   ]
  },
  {
   "cell_type": "code",
   "execution_count": 105,
   "id": "ab6354f3",
   "metadata": {},
   "outputs": [
    {
     "data": {
      "text/plain": [
       "<AxesSubplot:xlabel='bed_count', ylabel='Density'>"
      ]
     },
     "execution_count": 105,
     "metadata": {},
     "output_type": "execute_result"
    },
    {
     "data": {
      "image/png": "[encoded data removed]",
      "text/plain": [
       "<Figure size 432x288 with 1 Axes>"
      ]
     },
     "metadata": {
      "needs_background": "light"
     },
     "output_type": "display_data"
    }
   ],
   "source": [
    "sns.distplot(df['bed_count'])"
   ]
  },
  {
   "cell_type": "code",
   "execution_count": 106,
   "id": "cae07f52",
   "metadata": {},
   "outputs": [],
   "source": [
    "q = df['bed_count'].quantile(0.99)\n",
    "df = df[df['bed_count']<q]"
   ]
  },
  {
   "cell_type": "code",
   "execution_count": 107,
   "id": "e1ecd01a",
   "metadata": {},
   "outputs": [
    {
     "data": {
      "text/plain": [
       "<AxesSubplot:xlabel='bed_count', ylabel='Density'>"
      ]
     },
     "execution_count": 107,
     "metadata": {},
     "output_type": "execute_result"
    },
    {
     "data": {
      "image/png": "[encoded data removed]",
      "text/plain": [
       "<Figure size 432x288 with 1 Axes>"
      ]
     },
     "metadata": {
      "needs_background": "light"
     },
     "output_type": "display_data"
    }
   ],
   "source": [
    "sns.distplot(df['bed_count'])"
   ]
  },
  {
   "cell_type": "code",
   "execution_count": 108,
   "id": "0af466f8",
   "metadata": {},
   "outputs": [
    {
     "data": {
      "text/plain": [
       "<AxesSubplot:xlabel='review_count', ylabel='Density'>"
      ]
     },
     "execution_count": 108,
     "metadata": {},
     "output_type": "execute_result"
    },
    {
     "data": {
      "image/png": "[encoded data removed]",
      "text/plain": [
       "<Figure size 432x288 with 1 Axes>"
      ]
     },
     "metadata": {
      "needs_background": "light"
     },
     "output_type": "display_data"
    }
   ],
   "source": [
    "sns.distplot(df['review_count'])"
   ]
  },
  {
   "cell_type": "code",
   "execution_count": 109,
   "id": "5c6b3a4f",
   "metadata": {},
   "outputs": [],
   "source": [
    "q = df['review_count'].quantile(0.99)\n",
    "df = df[df['review_count']<q]"
   ]
  },
  {
   "cell_type": "code",
   "execution_count": 110,
   "id": "7bf8dc74",
   "metadata": {},
   "outputs": [
    {
     "data": {
      "text/plain": [
       "<AxesSubplot:xlabel='review_count', ylabel='Density'>"
      ]
     },
     "execution_count": 110,
     "metadata": {},
     "output_type": "execute_result"
    },
    {
     "data": {
      "image/png": "[encoded data removed]",
      "text/plain": [
       "<Figure size 432x288 with 1 Axes>"
      ]
     },
     "metadata": {
      "needs_background": "light"
     },
     "output_type": "display_data"
    }
   ],
   "source": [
    "sns.distplot(df['review_count'])"
   ]
  },
  {
   "cell_type": "code",
   "execution_count": 111,
   "id": "793fc793",
   "metadata": {},
   "outputs": [
    {
     "data": {
      "text/html": [
       "<div>\n",
       "<style scoped>\n",
       "    .dataframe tbody tr th:only-of-type {\n",
       "        vertical-align: middle;\n",
       "    }\n",
       "\n",
       "    .dataframe tbody tr th {\n",
       "        vertical-align: top;\n",
       "    }\n",
       "\n",
       "    .dataframe thead th {\n",
       "        text-align: right;\n",
       "    }\n",
       "</style>\n",
       "<table border=\"1\" class=\"dataframe\">\n",
       "  <thead>\n",
       "    <tr style=\"text-align: right;\">\n",
       "      <th></th>\n",
       "      <th>price</th>\n",
       "      <th>bedroom_count</th>\n",
       "      <th>bed_count</th>\n",
       "      <th>review_count</th>\n",
       "    </tr>\n",
       "  </thead>\n",
       "  <tbody>\n",
       "    <tr>\n",
       "      <th>count</th>\n",
       "      <td>2155.000000</td>\n",
       "      <td>2155.000000</td>\n",
       "      <td>2155.000000</td>\n",
       "      <td>2155.000000</td>\n",
       "    </tr>\n",
       "    <tr>\n",
       "      <th>mean</th>\n",
       "      <td>56.170302</td>\n",
       "      <td>1.077958</td>\n",
       "      <td>1.574942</td>\n",
       "      <td>6.412065</td>\n",
       "    </tr>\n",
       "    <tr>\n",
       "      <th>std</th>\n",
       "      <td>46.571849</td>\n",
       "      <td>0.323128</td>\n",
       "      <td>0.962299</td>\n",
       "      <td>26.611341</td>\n",
       "    </tr>\n",
       "    <tr>\n",
       "      <th>min</th>\n",
       "      <td>5.000000</td>\n",
       "      <td>1.000000</td>\n",
       "      <td>1.000000</td>\n",
       "      <td>1.000000</td>\n",
       "    </tr>\n",
       "    <tr>\n",
       "      <th>25%</th>\n",
       "      <td>31.000000</td>\n",
       "      <td>1.000000</td>\n",
       "      <td>1.000000</td>\n",
       "      <td>1.000000</td>\n",
       "    </tr>\n",
       "    <tr>\n",
       "      <th>50%</th>\n",
       "      <td>45.000000</td>\n",
       "      <td>1.000000</td>\n",
       "      <td>1.000000</td>\n",
       "      <td>1.000000</td>\n",
       "    </tr>\n",
       "    <tr>\n",
       "      <th>75%</th>\n",
       "      <td>59.500000</td>\n",
       "      <td>1.000000</td>\n",
       "      <td>2.000000</td>\n",
       "      <td>1.000000</td>\n",
       "    </tr>\n",
       "    <tr>\n",
       "      <th>max</th>\n",
       "      <td>386.000000</td>\n",
       "      <td>4.000000</td>\n",
       "      <td>5.000000</td>\n",
       "      <td>327.000000</td>\n",
       "    </tr>\n",
       "  </tbody>\n",
       "</table>\n",
       "</div>"
      ],
      "text/plain": [
       "             price  bedroom_count    bed_count  review_count\n",
       "count  2155.000000    2155.000000  2155.000000   2155.000000\n",
       "mean     56.170302       1.077958     1.574942      6.412065\n",
       "std      46.571849       0.323128     0.962299     26.611341\n",
       "min       5.000000       1.000000     1.000000      1.000000\n",
       "25%      31.000000       1.000000     1.000000      1.000000\n",
       "50%      45.000000       1.000000     1.000000      1.000000\n",
       "75%      59.500000       1.000000     2.000000      1.000000\n",
       "max     386.000000       4.000000     5.000000    327.000000"
      ]
     },
     "execution_count": 111,
     "metadata": {},
     "output_type": "execute_result"
    }
   ],
   "source": [
    "df.describe()"
   ]
  },
  {
   "cell_type": "markdown",
   "id": "e4afef7b",
   "metadata": {},
   "source": [
    "## find duplicates"
   ]
  },
  {
   "cell_type": "code",
   "execution_count": 112,
   "id": "e8e65084",
   "metadata": {},
   "outputs": [
    {
     "data": {
      "text/html": [
       "<div>\n",
       "<style scoped>\n",
       "    .dataframe tbody tr th:only-of-type {\n",
       "        vertical-align: middle;\n",
       "    }\n",
       "\n",
       "    .dataframe tbody tr th {\n",
       "        vertical-align: top;\n",
       "    }\n",
       "\n",
       "    .dataframe thead th {\n",
       "        text-align: right;\n",
       "    }\n",
       "</style>\n",
       "<table border=\"1\" class=\"dataframe\">\n",
       "  <thead>\n",
       "    <tr style=\"text-align: right;\">\n",
       "      <th></th>\n",
       "      <th>price</th>\n",
       "      <th>bedroom_count</th>\n",
       "      <th>bed_count</th>\n",
       "      <th>review_count</th>\n",
       "    </tr>\n",
       "  </thead>\n",
       "  <tbody>\n",
       "    <tr>\n",
       "      <th>20</th>\n",
       "      <td>45.0</td>\n",
       "      <td>1.0</td>\n",
       "      <td>1.0</td>\n",
       "      <td>1.0</td>\n",
       "    </tr>\n",
       "    <tr>\n",
       "      <th>26</th>\n",
       "      <td>43.0</td>\n",
       "      <td>1.0</td>\n",
       "      <td>1.0</td>\n",
       "      <td>1.0</td>\n",
       "    </tr>\n",
       "    <tr>\n",
       "      <th>27</th>\n",
       "      <td>43.0</td>\n",
       "      <td>1.0</td>\n",
       "      <td>1.0</td>\n",
       "      <td>1.0</td>\n",
       "    </tr>\n",
       "    <tr>\n",
       "      <th>30</th>\n",
       "      <td>45.0</td>\n",
       "      <td>1.0</td>\n",
       "      <td>1.0</td>\n",
       "      <td>1.0</td>\n",
       "    </tr>\n",
       "    <tr>\n",
       "      <th>35</th>\n",
       "      <td>45.0</td>\n",
       "      <td>1.0</td>\n",
       "      <td>1.0</td>\n",
       "      <td>1.0</td>\n",
       "    </tr>\n",
       "    <tr>\n",
       "      <th>...</th>\n",
       "      <td>...</td>\n",
       "      <td>...</td>\n",
       "      <td>...</td>\n",
       "      <td>...</td>\n",
       "    </tr>\n",
       "    <tr>\n",
       "      <th>2242</th>\n",
       "      <td>49.0</td>\n",
       "      <td>1.0</td>\n",
       "      <td>1.0</td>\n",
       "      <td>1.0</td>\n",
       "    </tr>\n",
       "    <tr>\n",
       "      <th>2243</th>\n",
       "      <td>45.0</td>\n",
       "      <td>1.0</td>\n",
       "      <td>1.0</td>\n",
       "      <td>1.0</td>\n",
       "    </tr>\n",
       "    <tr>\n",
       "      <th>2244</th>\n",
       "      <td>56.0</td>\n",
       "      <td>1.0</td>\n",
       "      <td>1.0</td>\n",
       "      <td>1.0</td>\n",
       "    </tr>\n",
       "    <tr>\n",
       "      <th>2245</th>\n",
       "      <td>106.0</td>\n",
       "      <td>1.0</td>\n",
       "      <td>1.0</td>\n",
       "      <td>1.0</td>\n",
       "    </tr>\n",
       "    <tr>\n",
       "      <th>2246</th>\n",
       "      <td>127.0</td>\n",
       "      <td>1.0</td>\n",
       "      <td>2.0</td>\n",
       "      <td>1.0</td>\n",
       "    </tr>\n",
       "  </tbody>\n",
       "</table>\n",
       "<p>1521 rows × 4 columns</p>\n",
       "</div>"
      ],
      "text/plain": [
       "      price  bedroom_count  bed_count  review_count\n",
       "20     45.0            1.0        1.0           1.0\n",
       "26     43.0            1.0        1.0           1.0\n",
       "27     43.0            1.0        1.0           1.0\n",
       "30     45.0            1.0        1.0           1.0\n",
       "35     45.0            1.0        1.0           1.0\n",
       "...     ...            ...        ...           ...\n",
       "2242   49.0            1.0        1.0           1.0\n",
       "2243   45.0            1.0        1.0           1.0\n",
       "2244   56.0            1.0        1.0           1.0\n",
       "2245  106.0            1.0        1.0           1.0\n",
       "2246  127.0            1.0        2.0           1.0\n",
       "\n",
       "[1521 rows x 4 columns]"
      ]
     },
     "execution_count": 112,
     "metadata": {},
     "output_type": "execute_result"
    }
   ],
   "source": [
    "df[df.duplicated()]"
   ]
  },
  {
   "cell_type": "code",
   "execution_count": 113,
   "id": "5f0a17df",
   "metadata": {},
   "outputs": [
    {
     "data": {
      "text/plain": [
       "(2155, 4)"
      ]
     },
     "execution_count": 113,
     "metadata": {},
     "output_type": "execute_result"
    }
   ],
   "source": [
    "df.shape"
   ]
  },
  {
   "cell_type": "code",
   "execution_count": 114,
   "id": "14dc4a9e",
   "metadata": {},
   "outputs": [
    {
     "data": {
      "text/html": [
       "<div>\n",
       "<style scoped>\n",
       "    .dataframe tbody tr th:only-of-type {\n",
       "        vertical-align: middle;\n",
       "    }\n",
       "\n",
       "    .dataframe tbody tr th {\n",
       "        vertical-align: top;\n",
       "    }\n",
       "\n",
       "    .dataframe thead th {\n",
       "        text-align: right;\n",
       "    }\n",
       "</style>\n",
       "<table border=\"1\" class=\"dataframe\">\n",
       "  <thead>\n",
       "    <tr style=\"text-align: right;\">\n",
       "      <th></th>\n",
       "      <th>price</th>\n",
       "      <th>bedroom_count</th>\n",
       "      <th>bed_count</th>\n",
       "      <th>review_count</th>\n",
       "    </tr>\n",
       "  </thead>\n",
       "  <tbody>\n",
       "    <tr>\n",
       "      <th>1</th>\n",
       "      <td>35.0</td>\n",
       "      <td>1.0</td>\n",
       "      <td>1.0</td>\n",
       "      <td>1.0</td>\n",
       "    </tr>\n",
       "    <tr>\n",
       "      <th>2</th>\n",
       "      <td>42.0</td>\n",
       "      <td>1.0</td>\n",
       "      <td>3.0</td>\n",
       "      <td>196.0</td>\n",
       "    </tr>\n",
       "    <tr>\n",
       "      <th>3</th>\n",
       "      <td>32.0</td>\n",
       "      <td>1.0</td>\n",
       "      <td>1.0</td>\n",
       "      <td>1.0</td>\n",
       "    </tr>\n",
       "    <tr>\n",
       "      <th>4</th>\n",
       "      <td>73.0</td>\n",
       "      <td>1.0</td>\n",
       "      <td>3.0</td>\n",
       "      <td>16.0</td>\n",
       "    </tr>\n",
       "    <tr>\n",
       "      <th>6</th>\n",
       "      <td>45.0</td>\n",
       "      <td>1.0</td>\n",
       "      <td>1.0</td>\n",
       "      <td>1.0</td>\n",
       "    </tr>\n",
       "    <tr>\n",
       "      <th>...</th>\n",
       "      <td>...</td>\n",
       "      <td>...</td>\n",
       "      <td>...</td>\n",
       "      <td>...</td>\n",
       "    </tr>\n",
       "    <tr>\n",
       "      <th>2193</th>\n",
       "      <td>89.0</td>\n",
       "      <td>1.0</td>\n",
       "      <td>1.0</td>\n",
       "      <td>1.0</td>\n",
       "    </tr>\n",
       "    <tr>\n",
       "      <th>2204</th>\n",
       "      <td>198.0</td>\n",
       "      <td>1.0</td>\n",
       "      <td>3.0</td>\n",
       "      <td>1.0</td>\n",
       "    </tr>\n",
       "    <tr>\n",
       "      <th>2228</th>\n",
       "      <td>178.0</td>\n",
       "      <td>1.0</td>\n",
       "      <td>3.0</td>\n",
       "      <td>1.0</td>\n",
       "    </tr>\n",
       "    <tr>\n",
       "      <th>2239</th>\n",
       "      <td>208.0</td>\n",
       "      <td>1.0</td>\n",
       "      <td>1.0</td>\n",
       "      <td>1.0</td>\n",
       "    </tr>\n",
       "    <tr>\n",
       "      <th>2240</th>\n",
       "      <td>109.0</td>\n",
       "      <td>1.0</td>\n",
       "      <td>1.0</td>\n",
       "      <td>1.0</td>\n",
       "    </tr>\n",
       "  </tbody>\n",
       "</table>\n",
       "<p>634 rows × 4 columns</p>\n",
       "</div>"
      ],
      "text/plain": [
       "      price  bedroom_count  bed_count  review_count\n",
       "1      35.0            1.0        1.0           1.0\n",
       "2      42.0            1.0        3.0         196.0\n",
       "3      32.0            1.0        1.0           1.0\n",
       "4      73.0            1.0        3.0          16.0\n",
       "6      45.0            1.0        1.0           1.0\n",
       "...     ...            ...        ...           ...\n",
       "2193   89.0            1.0        1.0           1.0\n",
       "2204  198.0            1.0        3.0           1.0\n",
       "2228  178.0            1.0        3.0           1.0\n",
       "2239  208.0            1.0        1.0           1.0\n",
       "2240  109.0            1.0        1.0           1.0\n",
       "\n",
       "[634 rows x 4 columns]"
      ]
     },
     "execution_count": 114,
     "metadata": {},
     "output_type": "execute_result"
    }
   ],
   "source": [
    "df.drop_duplicates()"
   ]
  },
  {
   "cell_type": "code",
   "execution_count": 115,
   "id": "d688e828",
   "metadata": {},
   "outputs": [
    {
     "data": {
      "text/plain": [
       "(2155, 4)"
      ]
     },
     "execution_count": 115,
     "metadata": {},
     "output_type": "execute_result"
    }
   ],
   "source": [
    "df.shape"
   ]
  },
  {
   "cell_type": "code",
   "execution_count": 116,
   "id": "7102bb08",
   "metadata": {},
   "outputs": [
    {
     "data": {
      "text/html": [
       "<div>\n",
       "<style scoped>\n",
       "    .dataframe tbody tr th:only-of-type {\n",
       "        vertical-align: middle;\n",
       "    }\n",
       "\n",
       "    .dataframe tbody tr th {\n",
       "        vertical-align: top;\n",
       "    }\n",
       "\n",
       "    .dataframe thead th {\n",
       "        text-align: right;\n",
       "    }\n",
       "</style>\n",
       "<table border=\"1\" class=\"dataframe\">\n",
       "  <thead>\n",
       "    <tr style=\"text-align: right;\">\n",
       "      <th></th>\n",
       "      <th>price</th>\n",
       "      <th>bedroom_count</th>\n",
       "      <th>bed_count</th>\n",
       "      <th>review_count</th>\n",
       "    </tr>\n",
       "  </thead>\n",
       "  <tbody>\n",
       "    <tr>\n",
       "      <th>464</th>\n",
       "      <td>45.0</td>\n",
       "      <td>1.0</td>\n",
       "      <td>1.0</td>\n",
       "      <td>1.0</td>\n",
       "    </tr>\n",
       "    <tr>\n",
       "      <th>413</th>\n",
       "      <td>18.0</td>\n",
       "      <td>1.0</td>\n",
       "      <td>1.0</td>\n",
       "      <td>1.0</td>\n",
       "    </tr>\n",
       "    <tr>\n",
       "      <th>1078</th>\n",
       "      <td>71.0</td>\n",
       "      <td>2.0</td>\n",
       "      <td>2.0</td>\n",
       "      <td>7.0</td>\n",
       "    </tr>\n",
       "    <tr>\n",
       "      <th>959</th>\n",
       "      <td>65.0</td>\n",
       "      <td>1.0</td>\n",
       "      <td>2.0</td>\n",
       "      <td>1.0</td>\n",
       "    </tr>\n",
       "    <tr>\n",
       "      <th>396</th>\n",
       "      <td>25.0</td>\n",
       "      <td>1.0</td>\n",
       "      <td>1.0</td>\n",
       "      <td>1.0</td>\n",
       "    </tr>\n",
       "    <tr>\n",
       "      <th>2055</th>\n",
       "      <td>45.0</td>\n",
       "      <td>1.0</td>\n",
       "      <td>1.0</td>\n",
       "      <td>1.0</td>\n",
       "    </tr>\n",
       "    <tr>\n",
       "      <th>2222</th>\n",
       "      <td>55.0</td>\n",
       "      <td>1.0</td>\n",
       "      <td>1.0</td>\n",
       "      <td>1.0</td>\n",
       "    </tr>\n",
       "    <tr>\n",
       "      <th>1500</th>\n",
       "      <td>104.0</td>\n",
       "      <td>2.0</td>\n",
       "      <td>2.0</td>\n",
       "      <td>1.0</td>\n",
       "    </tr>\n",
       "    <tr>\n",
       "      <th>1484</th>\n",
       "      <td>52.0</td>\n",
       "      <td>1.0</td>\n",
       "      <td>1.0</td>\n",
       "      <td>1.0</td>\n",
       "    </tr>\n",
       "    <tr>\n",
       "      <th>528</th>\n",
       "      <td>77.0</td>\n",
       "      <td>1.0</td>\n",
       "      <td>1.0</td>\n",
       "      <td>78.0</td>\n",
       "    </tr>\n",
       "  </tbody>\n",
       "</table>\n",
       "</div>"
      ],
      "text/plain": [
       "      price  bedroom_count  bed_count  review_count\n",
       "464    45.0            1.0        1.0           1.0\n",
       "413    18.0            1.0        1.0           1.0\n",
       "1078   71.0            2.0        2.0           7.0\n",
       "959    65.0            1.0        2.0           1.0\n",
       "396    25.0            1.0        1.0           1.0\n",
       "2055   45.0            1.0        1.0           1.0\n",
       "2222   55.0            1.0        1.0           1.0\n",
       "1500  104.0            2.0        2.0           1.0\n",
       "1484   52.0            1.0        1.0           1.0\n",
       "528    77.0            1.0        1.0          78.0"
      ]
     },
     "execution_count": 116,
     "metadata": {},
     "output_type": "execute_result"
    }
   ],
   "source": [
    "df.sample(10)"
   ]
  },
  {
   "cell_type": "code",
   "execution_count": 117,
   "id": "01428ade",
   "metadata": {},
   "outputs": [
    {
     "data": {
      "text/plain": [
       "1.0    2020\n",
       "2.0     104\n",
       "3.0      29\n",
       "4.0       2\n",
       "Name: bedroom_count, dtype: int64"
      ]
     },
     "execution_count": 117,
     "metadata": {},
     "output_type": "execute_result"
    }
   ],
   "source": [
    "df['bedroom_count'].value_counts()"
   ]
  },
  {
   "cell_type": "code",
   "execution_count": 118,
   "id": "39cae6a7",
   "metadata": {},
   "outputs": [
    {
     "data": {
      "text/html": [
       "<div>\n",
       "<style scoped>\n",
       "    .dataframe tbody tr th:only-of-type {\n",
       "        vertical-align: middle;\n",
       "    }\n",
       "\n",
       "    .dataframe tbody tr th {\n",
       "        vertical-align: top;\n",
       "    }\n",
       "\n",
       "    .dataframe thead th {\n",
       "        text-align: right;\n",
       "    }\n",
       "</style>\n",
       "<table border=\"1\" class=\"dataframe\">\n",
       "  <thead>\n",
       "    <tr style=\"text-align: right;\">\n",
       "      <th></th>\n",
       "      <th>bedroom_count</th>\n",
       "      <th>counts</th>\n",
       "    </tr>\n",
       "  </thead>\n",
       "  <tbody>\n",
       "    <tr>\n",
       "      <th>0</th>\n",
       "      <td>1.0</td>\n",
       "      <td>2020</td>\n",
       "    </tr>\n",
       "    <tr>\n",
       "      <th>1</th>\n",
       "      <td>2.0</td>\n",
       "      <td>104</td>\n",
       "    </tr>\n",
       "    <tr>\n",
       "      <th>2</th>\n",
       "      <td>3.0</td>\n",
       "      <td>29</td>\n",
       "    </tr>\n",
       "    <tr>\n",
       "      <th>3</th>\n",
       "      <td>4.0</td>\n",
       "      <td>2</td>\n",
       "    </tr>\n",
       "  </tbody>\n",
       "</table>\n",
       "</div>"
      ],
      "text/plain": [
       "   bedroom_count  counts\n",
       "0            1.0    2020\n",
       "1            2.0     104\n",
       "2            3.0      29\n",
       "3            4.0       2"
      ]
     },
     "execution_count": 118,
     "metadata": {},
     "output_type": "execute_result"
    }
   ],
   "source": [
    "common_bedroom_count = df.groupby(['bedroom_count']).size().reset_index(name='counts')\n",
    "common_bedroom_count"
   ]
  },
  {
   "cell_type": "code",
   "execution_count": 119,
   "id": "4c0770a5",
   "metadata": {},
   "outputs": [
    {
     "data": {
      "image/png": "[encoded data removed]",
      "text/plain": [
       "<Figure size 1080x360 with 1 Axes>"
      ]
     },
     "metadata": {
      "needs_background": "light"
     },
     "output_type": "display_data"
    }
   ],
   "source": [
    "plt.figure(figsize = (15,5)) \n",
    "plt.title(\"Most Common Bedroom Count\", fontsize=18) \n",
    "plt.bar(common_bedroom_count[\"bedroom_count\"], common_bedroom_count[\"counts\"],color= '#99ff99',edgecolor='green', linewidth = 1)\n",
    "plt.xlabel(\"Bedroom Count\",fontsize=15) \n",
    "plt.ylabel(\"Frquency\",fontsize=15) \n",
    "plt.xticks(fontsize=12, rotation=90)\n",
    "plt.yticks(fontsize=12)\n",
    "for k,v in common_bedroom_count[\"counts\"].items(): \n",
    "        plt.text(k,v+300,str(v), fontsize=12,rotation=90,color='k', horizontalalignment='center');"
   ]
  },
  {
   "cell_type": "code",
   "execution_count": 120,
   "id": "71a0e7d8",
   "metadata": {},
   "outputs": [
    {
     "data": {
      "text/plain": [
       "1.0    1430\n",
       "2.0     390\n",
       "3.0     197\n",
       "4.0      97\n",
       "5.0      41\n",
       "Name: bed_count, dtype: int64"
      ]
     },
     "execution_count": 120,
     "metadata": {},
     "output_type": "execute_result"
    }
   ],
   "source": [
    "df['bed_count'].value_counts()"
   ]
  },
  {
   "cell_type": "code",
   "execution_count": 121,
   "id": "930bf9df",
   "metadata": {},
   "outputs": [
    {
     "data": {
      "text/html": [
       "<div>\n",
       "<style scoped>\n",
       "    .dataframe tbody tr th:only-of-type {\n",
       "        vertical-align: middle;\n",
       "    }\n",
       "\n",
       "    .dataframe tbody tr th {\n",
       "        vertical-align: top;\n",
       "    }\n",
       "\n",
       "    .dataframe thead th {\n",
       "        text-align: right;\n",
       "    }\n",
       "</style>\n",
       "<table border=\"1\" class=\"dataframe\">\n",
       "  <thead>\n",
       "    <tr style=\"text-align: right;\">\n",
       "      <th></th>\n",
       "      <th>bed_count</th>\n",
       "      <th>counts</th>\n",
       "    </tr>\n",
       "  </thead>\n",
       "  <tbody>\n",
       "    <tr>\n",
       "      <th>0</th>\n",
       "      <td>1.0</td>\n",
       "      <td>1430</td>\n",
       "    </tr>\n",
       "    <tr>\n",
       "      <th>1</th>\n",
       "      <td>2.0</td>\n",
       "      <td>390</td>\n",
       "    </tr>\n",
       "    <tr>\n",
       "      <th>2</th>\n",
       "      <td>3.0</td>\n",
       "      <td>197</td>\n",
       "    </tr>\n",
       "    <tr>\n",
       "      <th>3</th>\n",
       "      <td>4.0</td>\n",
       "      <td>97</td>\n",
       "    </tr>\n",
       "    <tr>\n",
       "      <th>4</th>\n",
       "      <td>5.0</td>\n",
       "      <td>41</td>\n",
       "    </tr>\n",
       "  </tbody>\n",
       "</table>\n",
       "</div>"
      ],
      "text/plain": [
       "   bed_count  counts\n",
       "0        1.0    1430\n",
       "1        2.0     390\n",
       "2        3.0     197\n",
       "3        4.0      97\n",
       "4        5.0      41"
      ]
     },
     "execution_count": 121,
     "metadata": {},
     "output_type": "execute_result"
    }
   ],
   "source": [
    "common_bed_count = df.groupby(['bed_count']).size().reset_index(name='counts')\n",
    "common_bed_count"
   ]
  },
  {
   "cell_type": "code",
   "execution_count": 122,
   "id": "b352faff",
   "metadata": {},
   "outputs": [
    {
     "data": {
      "image/png": "[encoded data removed]",
      "text/plain": [
       "<Figure size 1080x360 with 1 Axes>"
      ]
     },
     "metadata": {
      "needs_background": "light"
     },
     "output_type": "display_data"
    }
   ],
   "source": [
    "plt.figure(figsize = (15,5)) \n",
    "plt.title(\"Most Common Bed Count\", fontsize=18) \n",
    "plt.bar(common_bed_count[\"bed_count\"], common_bed_count[\"counts\"],color= '#99ff99',edgecolor='green', linewidth = 1)\n",
    "plt.xlabel(\"Bed Count\",fontsize=15) \n",
    "plt.ylabel(\"Frquency\",fontsize=15) \n",
    "plt.xticks(fontsize=12, rotation=90)\n",
    "plt.yticks(fontsize=12)\n",
    "for k,v in common_bed_count[\"counts\"].items(): \n",
    "        plt.text(k,v+300,str(v), fontsize=12,rotation=90,color='k', horizontalalignment='center');"
   ]
  },
  {
   "cell_type": "code",
   "execution_count": 123,
   "id": "77b993cf",
   "metadata": {},
   "outputs": [
    {
     "data": {
      "text/plain": [
       "1.0      1827\n",
       "2.0        39\n",
       "3.0        32\n",
       "4.0        28\n",
       "6.0        16\n",
       "         ... \n",
       "37.0        1\n",
       "152.0       1\n",
       "47.0        1\n",
       "243.0       1\n",
       "54.0        1\n",
       "Name: review_count, Length: 101, dtype: int64"
      ]
     },
     "execution_count": 123,
     "metadata": {},
     "output_type": "execute_result"
    }
   ],
   "source": [
    "df['review_count'].value_counts()"
   ]
  },
  {
   "cell_type": "code",
   "execution_count": 124,
   "id": "c880e29b",
   "metadata": {},
   "outputs": [
    {
     "data": {
      "text/html": [
       "<div>\n",
       "<style scoped>\n",
       "    .dataframe tbody tr th:only-of-type {\n",
       "        vertical-align: middle;\n",
       "    }\n",
       "\n",
       "    .dataframe tbody tr th {\n",
       "        vertical-align: top;\n",
       "    }\n",
       "\n",
       "    .dataframe thead th {\n",
       "        text-align: right;\n",
       "    }\n",
       "</style>\n",
       "<table border=\"1\" class=\"dataframe\">\n",
       "  <thead>\n",
       "    <tr style=\"text-align: right;\">\n",
       "      <th></th>\n",
       "      <th>review_count</th>\n",
       "      <th>counts</th>\n",
       "    </tr>\n",
       "  </thead>\n",
       "  <tbody>\n",
       "    <tr>\n",
       "      <th>0</th>\n",
       "      <td>1.0</td>\n",
       "      <td>1827</td>\n",
       "    </tr>\n",
       "    <tr>\n",
       "      <th>1</th>\n",
       "      <td>2.0</td>\n",
       "      <td>39</td>\n",
       "    </tr>\n",
       "    <tr>\n",
       "      <th>2</th>\n",
       "      <td>3.0</td>\n",
       "      <td>32</td>\n",
       "    </tr>\n",
       "    <tr>\n",
       "      <th>3</th>\n",
       "      <td>4.0</td>\n",
       "      <td>28</td>\n",
       "    </tr>\n",
       "    <tr>\n",
       "      <th>5</th>\n",
       "      <td>6.0</td>\n",
       "      <td>16</td>\n",
       "    </tr>\n",
       "    <tr>\n",
       "      <th>12</th>\n",
       "      <td>13.0</td>\n",
       "      <td>13</td>\n",
       "    </tr>\n",
       "    <tr>\n",
       "      <th>4</th>\n",
       "      <td>5.0</td>\n",
       "      <td>12</td>\n",
       "    </tr>\n",
       "    <tr>\n",
       "      <th>6</th>\n",
       "      <td>7.0</td>\n",
       "      <td>11</td>\n",
       "    </tr>\n",
       "    <tr>\n",
       "      <th>14</th>\n",
       "      <td>15.0</td>\n",
       "      <td>9</td>\n",
       "    </tr>\n",
       "    <tr>\n",
       "      <th>7</th>\n",
       "      <td>8.0</td>\n",
       "      <td>8</td>\n",
       "    </tr>\n",
       "    <tr>\n",
       "      <th>8</th>\n",
       "      <td>9.0</td>\n",
       "      <td>7</td>\n",
       "    </tr>\n",
       "    <tr>\n",
       "      <th>10</th>\n",
       "      <td>11.0</td>\n",
       "      <td>7</td>\n",
       "    </tr>\n",
       "    <tr>\n",
       "      <th>11</th>\n",
       "      <td>12.0</td>\n",
       "      <td>7</td>\n",
       "    </tr>\n",
       "    <tr>\n",
       "      <th>9</th>\n",
       "      <td>10.0</td>\n",
       "      <td>5</td>\n",
       "    </tr>\n",
       "    <tr>\n",
       "      <th>35</th>\n",
       "      <td>39.0</td>\n",
       "      <td>5</td>\n",
       "    </tr>\n",
       "  </tbody>\n",
       "</table>\n",
       "</div>"
      ],
      "text/plain": [
       "    review_count  counts\n",
       "0            1.0    1827\n",
       "1            2.0      39\n",
       "2            3.0      32\n",
       "3            4.0      28\n",
       "5            6.0      16\n",
       "12          13.0      13\n",
       "4            5.0      12\n",
       "6            7.0      11\n",
       "14          15.0       9\n",
       "7            8.0       8\n",
       "8            9.0       7\n",
       "10          11.0       7\n",
       "11          12.0       7\n",
       "9           10.0       5\n",
       "35          39.0       5"
      ]
     },
     "execution_count": 124,
     "metadata": {},
     "output_type": "execute_result"
    }
   ],
   "source": [
    "common_reviews = df.groupby(['review_count']).size().reset_index(name='counts').sort_values('counts',ascending=False).head(15)\n",
    "common_reviews"
   ]
  },
  {
   "cell_type": "code",
   "execution_count": 125,
   "id": "4ddda89e",
   "metadata": {},
   "outputs": [
    {
     "data": {
      "image/png": "[encoded data removed]",
      "text/plain": [
       "<Figure size 1080x360 with 1 Axes>"
      ]
     },
     "metadata": {
      "needs_background": "light"
     },
     "output_type": "display_data"
    }
   ],
   "source": [
    "plt.figure(figsize = (15,5)) \n",
    "plt.title(\"People Reviews\", fontsize=18) \n",
    "plt.bar(common_reviews[\"review_count\"], common_reviews[\"counts\"],color= '#99ff99',edgecolor='green', linewidth = 1)\n",
    "plt.xlabel(\"Review Count\",fontsize=15) \n",
    "plt.ylabel(\"Frquency\",fontsize=15) \n",
    "plt.xticks(fontsize=12, rotation=90)\n",
    "plt.yticks(fontsize=12)\n",
    "for k,v in common_reviews[\"counts\"].items(): \n",
    "        plt.text(k,v+300,str(v), fontsize=12,rotation=90,color='k', horizontalalignment='center');"
   ]
  },
  {
   "cell_type": "markdown",
   "id": "49eb8c6d",
   "metadata": {},
   "source": [
    "## Linear Regression"
   ]
  },
  {
   "cell_type": "code",
   "execution_count": 126,
   "id": "5d0bf354",
   "metadata": {},
   "outputs": [
    {
     "data": {
      "text/html": [
       "<div>\n",
       "<style scoped>\n",
       "    .dataframe tbody tr th:only-of-type {\n",
       "        vertical-align: middle;\n",
       "    }\n",
       "\n",
       "    .dataframe tbody tr th {\n",
       "        vertical-align: top;\n",
       "    }\n",
       "\n",
       "    .dataframe thead th {\n",
       "        text-align: right;\n",
       "    }\n",
       "</style>\n",
       "<table border=\"1\" class=\"dataframe\">\n",
       "  <thead>\n",
       "    <tr style=\"text-align: right;\">\n",
       "      <th></th>\n",
       "      <th>price</th>\n",
       "      <th>bedroom_count</th>\n",
       "      <th>bed_count</th>\n",
       "      <th>review_count</th>\n",
       "    </tr>\n",
       "  </thead>\n",
       "  <tbody>\n",
       "    <tr>\n",
       "      <th>1</th>\n",
       "      <td>35.0</td>\n",
       "      <td>1.0</td>\n",
       "      <td>1.0</td>\n",
       "      <td>1.0</td>\n",
       "    </tr>\n",
       "    <tr>\n",
       "      <th>2</th>\n",
       "      <td>42.0</td>\n",
       "      <td>1.0</td>\n",
       "      <td>3.0</td>\n",
       "      <td>196.0</td>\n",
       "    </tr>\n",
       "    <tr>\n",
       "      <th>3</th>\n",
       "      <td>32.0</td>\n",
       "      <td>1.0</td>\n",
       "      <td>1.0</td>\n",
       "      <td>1.0</td>\n",
       "    </tr>\n",
       "    <tr>\n",
       "      <th>4</th>\n",
       "      <td>73.0</td>\n",
       "      <td>1.0</td>\n",
       "      <td>3.0</td>\n",
       "      <td>16.0</td>\n",
       "    </tr>\n",
       "    <tr>\n",
       "      <th>6</th>\n",
       "      <td>45.0</td>\n",
       "      <td>1.0</td>\n",
       "      <td>1.0</td>\n",
       "      <td>1.0</td>\n",
       "    </tr>\n",
       "  </tbody>\n",
       "</table>\n",
       "</div>"
      ],
      "text/plain": [
       "   price  bedroom_count  bed_count  review_count\n",
       "1   35.0            1.0        1.0           1.0\n",
       "2   42.0            1.0        3.0         196.0\n",
       "3   32.0            1.0        1.0           1.0\n",
       "4   73.0            1.0        3.0          16.0\n",
       "6   45.0            1.0        1.0           1.0"
      ]
     },
     "execution_count": 126,
     "metadata": {},
     "output_type": "execute_result"
    }
   ],
   "source": [
    "df.head()"
   ]
  },
  {
   "cell_type": "code",
   "execution_count": 127,
   "id": "90a33101",
   "metadata": {},
   "outputs": [
    {
     "data": {
      "text/plain": [
       "<seaborn.axisgrid.PairGrid at 0x295c4768a60>"
      ]
     },
     "execution_count": 127,
     "metadata": {},
     "output_type": "execute_result"
    },
    {
     "data": {
      "image/png": "[encoded data removed]",
      "text/plain": [
       "<Figure size 540x180 with 3 Axes>"
      ]
     },
     "metadata": {
      "needs_background": "light"
     },
     "output_type": "display_data"
    }
   ],
   "source": [
    "sns.pairplot(df,x_vars=['bedroom_count','bed_count','review_count'],y_vars='price')"
   ]
  },
  {
   "cell_type": "code",
   "execution_count": 128,
   "id": "c5b40c24",
   "metadata": {},
   "outputs": [],
   "source": [
    "x = df.drop(['price'],axis=1).values\n",
    "y = df['price'].values"
   ]
  },
  {
   "cell_type": "markdown",
   "id": "1b8e3a0b",
   "metadata": {},
   "source": [
    "### Split Dataset [training - test]"
   ]
  },
  {
   "cell_type": "code",
   "execution_count": 129,
   "id": "6afdbed3",
   "metadata": {},
   "outputs": [],
   "source": [
    "# divid into train and test\n",
    "x_train , x_test , y_train , y_test = train_test_split(x,y,test_size=.2,random_state=0)"
   ]
  },
  {
   "cell_type": "code",
   "execution_count": 130,
   "id": "0cb78af9",
   "metadata": {},
   "outputs": [],
   "source": [
    "# Scalers \n",
    "from sklearn.preprocessing import StandardScaler\n",
    "scaler = StandardScaler()\n",
    "\n",
    "X_train_scaled = scaler.fit_transform(x_train)\n",
    "X_test_scaled = scaler.transform(x_test)"
   ]
  },
  {
   "cell_type": "markdown",
   "id": "8262ae40",
   "metadata": {},
   "source": [
    "### Train Model"
   ]
  },
  {
   "cell_type": "code",
   "execution_count": 131,
   "id": "40708d14",
   "metadata": {},
   "outputs": [
    {
     "data": {
      "text/plain": [
       "LinearRegression()"
      ]
     },
     "execution_count": 131,
     "metadata": {},
     "output_type": "execute_result"
    }
   ],
   "source": [
    "my_model = LinearRegression()\n",
    "my_model.fit(x_train , y_train)"
   ]
  },
  {
   "cell_type": "code",
   "execution_count": 132,
   "id": "ad336653",
   "metadata": {},
   "outputs": [
    {
     "data": {
      "text/plain": [
       "array([ 1.38440873, 19.87494348, -0.13621779])"
      ]
     },
     "execution_count": 132,
     "metadata": {},
     "output_type": "execute_result"
    }
   ],
   "source": [
    "my_model.coef_"
   ]
  },
  {
   "cell_type": "code",
   "execution_count": 133,
   "id": "bc0c5eb0",
   "metadata": {},
   "outputs": [
    {
     "data": {
      "text/plain": [
       "24.56755895588908"
      ]
     },
     "execution_count": 133,
     "metadata": {},
     "output_type": "execute_result"
    }
   ],
   "source": [
    "my_model.intercept_"
   ]
  },
  {
   "cell_type": "markdown",
   "id": "3c5344b3",
   "metadata": {},
   "source": [
    "## Predict Value"
   ]
  },
  {
   "cell_type": "code",
   "execution_count": 134,
   "id": "1222387c",
   "metadata": {},
   "outputs": [
    {
     "data": {
      "text/plain": [
       "array([ 83.80596685,  45.69069338, 100.13924775,  65.56563686,\n",
       "        65.15698349])"
      ]
     },
     "execution_count": 134,
     "metadata": {},
     "output_type": "execute_result"
    }
   ],
   "source": [
    "# predicated Value\n",
    "y_predict = my_model.predict(x_test[:5])\n",
    "y_predict"
   ]
  },
  {
   "cell_type": "code",
   "execution_count": 135,
   "id": "16034646",
   "metadata": {},
   "outputs": [
    {
     "data": {
      "text/plain": [
       "array([34., 13., 33., 24., 35.])"
      ]
     },
     "execution_count": 135,
     "metadata": {},
     "output_type": "execute_result"
    }
   ],
   "source": [
    "# real value\n",
    "y_test[:5]"
   ]
  },
  {
   "cell_type": "markdown",
   "id": "c267b1ce",
   "metadata": {},
   "source": [
    "### Regression Score"
   ]
  },
  {
   "cell_type": "code",
   "execution_count": 136,
   "id": "aaffbb42",
   "metadata": {},
   "outputs": [
    {
     "name": "stdout",
     "output_type": "stream",
     "text": [
      "0.16610041434737688\n",
      "0.15214629590536244\n"
     ]
    }
   ],
   "source": [
    "train_data_score = my_model.score(x_train , y_train) \n",
    "test_data_score = my_model.score(x_test,y_test)\n",
    "\n",
    "print(train_data_score)\n",
    "print(test_data_score)"
   ]
  },
  {
   "cell_type": "markdown",
   "id": "b7dbd514",
   "metadata": {},
   "source": [
    "## Evaluate "
   ]
  },
  {
   "cell_type": "code",
   "execution_count": 137,
   "id": "2531009a",
   "metadata": {},
   "outputs": [
    {
     "data": {
      "text/plain": [
       "0.15214629590536244"
      ]
     },
     "execution_count": 137,
     "metadata": {},
     "output_type": "execute_result"
    }
   ],
   "source": [
    "from sklearn.metrics import r2_score\n",
    "y_pred = my_model.predict(x_test)\n",
    "r2_score(y_test , y_pred)"
   ]
  },
  {
   "cell_type": "code",
   "execution_count": 138,
   "id": "2067f0e2",
   "metadata": {},
   "outputs": [
    {
     "data": {
      "text/plain": [
       "Text(0, 0.5, 'Predicted Data')"
      ]
     },
     "execution_count": 138,
     "metadata": {},
     "output_type": "execute_result"
    },
    {
     "data": {
      "image/png": "[encoded data removed]",
      "text/plain": [
       "<Figure size 432x288 with 1 Axes>"
      ]
     },
     "metadata": {
      "needs_background": "light"
     },
     "output_type": "display_data"
    }
   ],
   "source": [
    "plt.scatter(y_test,y_pred)\n",
    "plt.xlabel('Actual Data')\n",
    "plt.ylabel('Predicted Data')"
   ]
  },
  {
   "cell_type": "markdown",
   "id": "b967d2f6",
   "metadata": {},
   "source": [
    "-----------------------\n",
    "## Ploynomial"
   ]
  },
  {
   "cell_type": "code",
   "execution_count": 139,
   "id": "86c0a175",
   "metadata": {},
   "outputs": [],
   "source": [
    "from sklearn.preprocessing import PolynomialFeatures\n",
    "\n",
    "poly = PolynomialFeatures(degree=3) \n",
    "\n",
    "X_train_poly = poly.fit_transform(x_train)\n",
    "X_test_poly = poly.transform(x_test)\n",
    "\n",
    "poly_model = LinearRegression()"
   ]
  },
  {
   "cell_type": "code",
   "execution_count": 140,
   "id": "41286db6",
   "metadata": {},
   "outputs": [
    {
     "data": {
      "text/plain": [
       "LinearRegression()"
      ]
     },
     "execution_count": 140,
     "metadata": {},
     "output_type": "execute_result"
    }
   ],
   "source": [
    "poly_model.fit(X_train_poly, y_train)"
   ]
  },
  {
   "cell_type": "code",
   "execution_count": 141,
   "id": "79e12d0e",
   "metadata": {},
   "outputs": [
    {
     "name": "stdout",
     "output_type": "stream",
     "text": [
      "train R^2 is: 0.18650062207541573\n",
      "train R^2 is: 0.1339471778391298\n"
     ]
    }
   ],
   "source": [
    "poly_test=poly_model.score(X_test_poly, y_test)\n",
    "poly_train=poly_model.score(X_train_poly, y_train)\n",
    "\n",
    "print(f'train R^2 is: {poly_train}')\n",
    "print(f'train R^2 is: {poly_test}')"
   ]
  },
  {
   "cell_type": "markdown",
   "id": "edb71c39",
   "metadata": {},
   "source": [
    "------\n",
    "## Ridge"
   ]
  },
  {
   "cell_type": "code",
   "execution_count": 142,
   "id": "1435495a",
   "metadata": {},
   "outputs": [
    {
     "data": {
      "text/plain": [
       "Ridge(alpha=1)"
      ]
     },
     "execution_count": 142,
     "metadata": {},
     "output_type": "execute_result"
    }
   ],
   "source": [
    "from sklearn.model_selection import RepeatedKFold\n",
    "from sklearn.linear_model import Ridge, Lasso\n",
    "\n",
    "rl = Ridge(alpha=1)\n",
    "rl.fit(X_train_scaled, y_train)"
   ]
  },
  {
   "cell_type": "code",
   "execution_count": 143,
   "id": "ba525d17",
   "metadata": {},
   "outputs": [
    {
     "name": "stdout",
     "output_type": "stream",
     "text": [
      " train R^2 is: 0.1661003413638893\n",
      " test R^2 is: 0.15220096300216435\n"
     ]
    }
   ],
   "source": [
    "rl_train = rl.score(X_train_scaled, y_train)\n",
    "rl_test = rl.score(X_test_scaled, y_test)\n",
    "\n",
    "print(f' train R^2 is: {rl_train}')\n",
    "print(f' test R^2 is: {rl_test}')"
   ]
  },
  {
   "cell_type": "markdown",
   "id": "917c90e5",
   "metadata": {},
   "source": [
    "------\n",
    "## Lasso "
   ]
  },
  {
   "cell_type": "code",
   "execution_count": 103,
   "id": "977fa415",
   "metadata": {},
   "outputs": [
    {
     "name": "stdout",
     "output_type": "stream",
     "text": [
      "Mean MAE: 19.428 (1.276)\n"
     ]
    }
   ],
   "source": [
    "from sklearn.linear_model import Ridge, Lasso\n",
    "from sklearn.model_selection import RepeatedKFold\n",
    "from sklearn.model_selection import cross_val_score\n",
    "from numpy import absolute\n",
    "from numpy import mean\n",
    "from numpy import std\n",
    "\n",
    "lasso_model = Lasso(alpha=1.0)\n",
    "cv = RepeatedKFold(n_splits=10, n_repeats=3, random_state=1)\n",
    "scores = cross_val_score(lasso_model, x, y, scoring='neg_mean_absolute_error', cv=cv, n_jobs=-1)\n",
    "scores = absolute(scores)\n",
    "\n",
    "print('Mean MAE: %.3f (%.3f)' % (mean(scores), std(scores)))"
   ]
  },
  {
   "cell_type": "code",
   "execution_count": 106,
   "id": "d09ea811",
   "metadata": {},
   "outputs": [
    {
     "data": {
      "text/plain": [
       "Lasso()"
      ]
     },
     "execution_count": 106,
     "metadata": {},
     "output_type": "execute_result"
    }
   ],
   "source": [
    "lasso_model.fit(x, y)"
   ]
  },
  {
   "cell_type": "code",
   "execution_count": 107,
   "id": "35ae5d94",
   "metadata": {},
   "outputs": [
    {
     "name": "stdout",
     "output_type": "stream",
     "text": [
      " train R^2 is: 0.1848473521528491\n",
      " test R^2 is: 0.17790462644093008\n"
     ]
    }
   ],
   "source": [
    "train_data_score_ls = lasso_model.score(x_train , y_train)\n",
    "test_data_score_ls = lasso_model.score(x_test , y_test)\n",
    "\n",
    "print(f' train R^2 is: {train_data_score_ls}')\n",
    "print(f' test R^2 is: {test_data_score_ls}')"
   ]
  },
  {
   "cell_type": "markdown",
   "id": "b36a2fd1",
   "metadata": {},
   "source": [
    "---\n",
    "## Decision Tree"
   ]
  },
  {
   "cell_type": "code",
   "execution_count": 108,
   "id": "9b2755be",
   "metadata": {},
   "outputs": [
    {
     "data": {
      "text/plain": [
       "DecisionTreeRegressor(max_depth=4)"
      ]
     },
     "execution_count": 108,
     "metadata": {},
     "output_type": "execute_result"
    }
   ],
   "source": [
    "from sklearn.tree import DecisionTreeRegressor\n",
    "DT_model = DecisionTreeRegressor(max_depth=4)\n",
    "DT_model.fit(x_train,y_train)"
   ]
  },
  {
   "cell_type": "code",
   "execution_count": 110,
   "id": "edeaf776",
   "metadata": {},
   "outputs": [
    {
     "data": {
      "text/plain": [
       "array([63.9665272, 42.3797942, 42.3797942, 42.3797942, 42.3797942])"
      ]
     },
     "execution_count": 110,
     "metadata": {},
     "output_type": "execute_result"
    }
   ],
   "source": [
    "y_predict_dt = DT_model.predict(x_test[:5])\n",
    "y_predict_dt"
   ]
  },
  {
   "cell_type": "code",
   "execution_count": 111,
   "id": "480cec40",
   "metadata": {},
   "outputs": [
    {
     "data": {
      "text/plain": [
       "array([136., 175.,  47.,  39.,  30.])"
      ]
     },
     "execution_count": 111,
     "metadata": {},
     "output_type": "execute_result"
    }
   ],
   "source": [
    "y_test[:5]"
   ]
  },
  {
   "cell_type": "code",
   "execution_count": 112,
   "id": "425be647",
   "metadata": {},
   "outputs": [
    {
     "name": "stdout",
     "output_type": "stream",
     "text": [
      " train R^2 is: 0.21534637422620184\n",
      " test R^2 is: 0.16436764916139346\n"
     ]
    }
   ],
   "source": [
    "## Score\n",
    "train_data_score_dt = DT_model.score(x_train , y_train)\n",
    "test_data_score_dt = DT_model.score(x_test , y_test)\n",
    "\n",
    "\n",
    "print(f' train R^2 is: {train_data_score_dt}')\n",
    "print(f' test R^2 is: {test_data_score_dt}')"
   ]
  },
  {
   "cell_type": "code",
   "execution_count": null,
   "id": "d9a558ea",
   "metadata": {},
   "outputs": [],
   "source": []
  }
 ],
 "metadata": {
  "kernelspec": {
   "display_name": "Python 3",
   "language": "python",
   "name": "python3"
  },
  "language_info": {
   "codemirror_mode": {
    "name": "ipython",
    "version": 3
   },
   "file_extension": ".py",
   "mimetype": "text/x-python",
   "name": "python",
   "nbconvert_exporter": "python",
   "pygments_lexer": "ipython3",
   "version": "3.8.8"
  }
 },
 "nbformat": 4,
 "nbformat_minor": 5
}
